{
  "nbformat": 4,
  "nbformat_minor": 0,
  "metadata": {
    "colab": {
      "provenance": []
    },
    "kernelspec": {
      "name": "python3",
      "display_name": "Python 3"
    },
    "language_info": {
      "name": "python"
    }
  },
  "cells": [
    {
      "cell_type": "code",
      "source": [
        "pip install pyspark"
      ],
      "metadata": {
        "colab": {
          "base_uri": "https://localhost:8080/"
        },
        "id": "RQkPO-Lo_CAo",
        "outputId": "8c8906ae-70bc-4919-c627-8853f748b0c7"
      },
      "execution_count": null,
      "outputs": [
        {
          "output_type": "stream",
          "name": "stdout",
          "text": [
            "Collecting pyspark\n",
            "  Downloading pyspark-3.5.1.tar.gz (317.0 MB)\n",
            "\u001b[2K     \u001b[90m━━━━━━━━━━━━━━━━━━━━━━━━━━━━━━━━━━━━━━━━\u001b[0m \u001b[32m317.0/317.0 MB\u001b[0m \u001b[31m2.9 MB/s\u001b[0m eta \u001b[36m0:00:00\u001b[0m\n",
            "\u001b[?25h  Preparing metadata (setup.py) ... \u001b[?25l\u001b[?25hdone\n",
            "Requirement already satisfied: py4j==0.10.9.7 in /usr/local/lib/python3.10/dist-packages (from pyspark) (0.10.9.7)\n",
            "Building wheels for collected packages: pyspark\n",
            "  Building wheel for pyspark (setup.py) ... \u001b[?25l\u001b[?25hdone\n",
            "  Created wheel for pyspark: filename=pyspark-3.5.1-py2.py3-none-any.whl size=317488491 sha256=7758dfa829b1bfb078c09e0119fbafee011bdd035f1222ca7e7cc6b817be59af\n",
            "  Stored in directory: /root/.cache/pip/wheels/80/1d/60/2c256ed38dddce2fdd93be545214a63e02fbd8d74fb0b7f3a6\n",
            "Successfully built pyspark\n",
            "Installing collected packages: pyspark\n",
            "Successfully installed pyspark-3.5.1\n"
          ]
        }
      ]
    },
    {
      "cell_type": "code",
      "execution_count": null,
      "metadata": {
        "id": "8x5K3QOt-3XO"
      },
      "outputs": [],
      "source": [
        "from pyspark.sql import SparkSession\n",
        "\n",
        "def create_spark_session(app_name=\"App\"):\n",
        "    return SparkSession.builder.appName(app_name).getOrCreate()\n",
        "\n",
        "def load_data(spark, data, columns):\n",
        "    return spark.createDataFrame(data, columns)\n"
      ]
    },
    {
      "cell_type": "code",
      "source": [
        "from pyspark.sql import SparkSession\n",
        "from pyspark.sql.functions import col, coalesce\n",
        "\n",
        "spark = SparkSession.builder \\\n",
        "    .appName(\"ProductCategoryExample\") \\\n",
        "    .getOrCreate()\n",
        "\n",
        "products_data = [\n",
        "    (1, \"Product A\"),\n",
        "    (2, \"Product B\"),\n",
        "    (3, \"Product C\"),\n",
        "    (4, \"Product D\"),\n",
        "]\n",
        "\n",
        "categories_data = [\n",
        "    (1, \"Category X\"),\n",
        "    (2, \"Category Y\"),\n",
        "    (3, \"Category Z\"),\n",
        "]\n",
        "\n",
        "product_category_data = [\n",
        "    (1, 1),\n",
        "    (1, 2),\n",
        "    (2, 2),\n",
        "    (3, 3),\n",
        "]\n",
        "\n",
        "products_df = spark.createDataFrame(products_data, [\"product_id\", \"product_name\"])\n",
        "categories_df = spark.createDataFrame(categories_data, [\"category_id\", \"category_name\"])\n",
        "product_category_df = spark.createDataFrame(product_category_data, [\"product_id\", \"category_id\"])\n",
        "\n",
        "products_df.show()\n",
        "categories_df.show()\n",
        "product_category_df.show()\n"
      ],
      "metadata": {
        "colab": {
          "base_uri": "https://localhost:8080/"
        },
        "id": "FWZkMQuu_BYo",
        "outputId": "92046692-0077-4640-eae5-1a0d12cf6dee"
      },
      "execution_count": null,
      "outputs": [
        {
          "output_type": "stream",
          "name": "stdout",
          "text": [
            "+----------+------------+\n",
            "|product_id|product_name|\n",
            "+----------+------------+\n",
            "|         1|   Product A|\n",
            "|         2|   Product B|\n",
            "|         3|   Product C|\n",
            "|         4|   Product D|\n",
            "+----------+------------+\n",
            "\n",
            "+-----------+-------------+\n",
            "|category_id|category_name|\n",
            "+-----------+-------------+\n",
            "|          1|   Category X|\n",
            "|          2|   Category Y|\n",
            "|          3|   Category Z|\n",
            "+-----------+-------------+\n",
            "\n",
            "+----------+-----------+\n",
            "|product_id|category_id|\n",
            "+----------+-----------+\n",
            "|         1|          1|\n",
            "|         1|          2|\n",
            "|         2|          2|\n",
            "|         3|          3|\n",
            "+----------+-----------+\n",
            "\n"
          ]
        }
      ]
    },
    {
      "cell_type": "code",
      "source": [
        "def get_product_category_pairs_and_orphans(products_df, categories_df, product_category_df):\n",
        "    product_category_join = product_category_df \\\n",
        "        .join(products_df, \"product_id\", \"inner\") \\\n",
        "        .join(categories_df, \"category_id\", \"inner\") \\\n",
        "        .select(\"product_name\", \"category_name\")\n",
        "\n",
        "    product_category_pairs = product_category_join \\\n",
        "        .select(\"product_name\", \"category_name\")\n",
        "\n",
        "    products_with_categories = product_category_df.select(\"product_id\").distinct()\n",
        "    products_without_categories = products_df \\\n",
        "        .join(products_with_categories, \"product_id\", \"left_anti\") \\\n",
        "        .select(\"product_name\")\n",
        "\n",
        "    return product_category_pairs, products_without_categories\n",
        "\n",
        "product_category_pairs, products_without_categories = get_product_category_pairs_and_orphans(products_df, categories_df, product_category_df)\n",
        "\n",
        "print(\"Пары 'Имя продукта – Имя категории':\")\n",
        "product_category_pairs.show()\n",
        "\n",
        "print(\"Продукты без категорий:\")\n",
        "products_without_categories.show()\n"
      ],
      "metadata": {
        "colab": {
          "base_uri": "https://localhost:8080/"
        },
        "id": "Y9tNs08_GLIw",
        "outputId": "ce525634-4821-48f4-ebda-69209e9299cd"
      },
      "execution_count": null,
      "outputs": [
        {
          "output_type": "stream",
          "name": "stdout",
          "text": [
            "Пары 'Имя продукта – Имя категории':\n",
            "+------------+-------------+\n",
            "|product_name|category_name|\n",
            "+------------+-------------+\n",
            "|   Product A|   Category X|\n",
            "|   Product C|   Category Z|\n",
            "|   Product B|   Category Y|\n",
            "|   Product A|   Category Y|\n",
            "+------------+-------------+\n",
            "\n",
            "Продукты без категорий:\n",
            "+------------+\n",
            "|product_name|\n",
            "+------------+\n",
            "|   Product D|\n",
            "+------------+\n",
            "\n"
          ]
        }
      ]
    },
    {
      "cell_type": "code",
      "source": [],
      "metadata": {
        "id": "wBEexfLO_Asr"
      },
      "execution_count": null,
      "outputs": []
    }
  ]
}